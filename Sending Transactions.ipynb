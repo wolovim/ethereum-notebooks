{
 "cells": [
  {
   "cell_type": "markdown",
   "id": "90b241f6",
   "metadata": {},
   "source": [
    "### NOTEs\n",
    "0. eth-tester, just send_transaction.\n",
    "    but, can customize with other accounts managed by eth-tester\n",
    "1. once you move over to testnet/mainnet, need to specify where pk is coming from\n",
    "    you can either, load your account into the script, or create one and fund it within\n",
    "    WARN: dont commit private keys!\n",
    "  -- so, build tx, sign it, then send raw tx\n",
    "2. for contracts: let the contract api build the tx for you, but still need to provide the pk\n",
    "3. you can use middleware to load and auto-execute txs from a particular account"
   ]
  },
  {
   "cell_type": "code",
   "execution_count": 1,
   "id": "31774566",
   "metadata": {
    "scrolled": true
   },
   "outputs": [
    {
     "name": "stdout",
     "output_type": "stream",
     "text": [
      "EthereumTester/0.8.0b3/darwin/python3.9.7\n",
      "6.1.0\n"
     ]
    }
   ],
   "source": [
    "from web3 import Web3, EthereumTesterProvider\n",
    "\n",
    "w3 = Web3(EthereumTesterProvider())\n",
    "\n",
    "print(w3.client_version)\n",
    "print(w3.api)"
   ]
  },
  {
   "cell_type": "code",
   "execution_count": 2,
   "id": "90a3d869",
   "metadata": {},
   "outputs": [
    {
     "name": "stdout",
     "output_type": "stream",
     "text": [
      "Account at address 0x7E5F4552091A69125d5DfCb7b8C2659029395Bdf contains 1000000 ether\n"
     ]
    }
   ],
   "source": [
    "acct1 = w3.eth.accounts[0]\n",
    "bal = w3.from_wei(w3.eth.get_balance(acct1), 'ether')\n",
    "print(f\"Account at address {acct1} contains {bal} ether\")"
   ]
  },
  {
   "cell_type": "code",
   "execution_count": 3,
   "id": "607aebbc",
   "metadata": {
    "scrolled": true
   },
   "outputs": [],
   "source": [
    "some_address = \"0x0000000000000000000000000000000000000000\"\n",
    "tx_hash = w3.eth.send_transaction({\"to\": some_address, \"value\": 123123123123123})\n",
    "# ^ that worked, because eth-tester auto-magically used account one as the \"from\" value\n",
    "\n",
    "tx = w3.eth.get_transaction(tx_hash)\n",
    "assert tx[\"from\"] == acct1"
   ]
  },
  {
   "cell_type": "code",
   "execution_count": 4,
   "id": "31ca2814",
   "metadata": {},
   "outputs": [
    {
     "data": {
      "text/plain": [
       "AttributeDict({'type': 2,\n",
       " 'hash': HexBytes('0x07753e07132115df2daf28e2103c955335017b5761647b59e2bee9d6078fd1df'),\n",
       " 'nonce': 0,\n",
       " 'blockHash': HexBytes('0x71a9ff4087c1f2bf88dc50f2e3a4018a32cfcf931007340965afc4afa0a0f2f1'),\n",
       " 'blockNumber': 1,\n",
       " 'transactionIndex': 0,\n",
       " 'from': '0x7E5F4552091A69125d5DfCb7b8C2659029395Bdf',\n",
       " 'to': '0x0000000000000000000000000000000000000000',\n",
       " 'value': 123123123123123,\n",
       " 'gas': 121000,\n",
       " 'data': '0x',\n",
       " 'r': HexBytes('0x1e35b554dd763a39135756602bb8ac64e4219b32fba4831b9828c318dbe40e09'),\n",
       " 's': HexBytes('0x7c65b5018881f656da8738a5fd26b74241227837a0a7b2a825b35e35763a888e'),\n",
       " 'v': 0,\n",
       " 'chainId': 131277322940537,\n",
       " 'maxFeePerGas': 1000000000,\n",
       " 'maxPriorityFeePerGas': 1000000000,\n",
       " 'accessList': [],\n",
       " 'gasPrice': 1000000000})"
      ]
     },
     "execution_count": 4,
     "metadata": {},
     "output_type": "execute_result"
    }
   ],
   "source": [
    "tx"
   ]
  },
  {
   "cell_type": "markdown",
   "id": "e0e770bb",
   "metadata": {},
   "source": [
    "this dont work in testnets or mainnet!\n",
    "\n",
    "at least not as is. you can use middleware."
   ]
  },
  {
   "cell_type": "code",
   "execution_count": 5,
   "id": "6da7fcec",
   "metadata": {},
   "outputs": [
    {
     "name": "stdout",
     "output_type": "stream",
     "text": [
      "acct2 balance: 9999999999999999\n"
     ]
    }
   ],
   "source": [
    "# middleware option:\n",
    "# from web3 import Web3, HTTPProvider\n",
    "from web3.middleware import construct_sign_and_send_raw_middleware\n",
    "from eth_account import Account\n",
    "import os\n",
    "\n",
    "# example private key. never commit your key in your code! grab from env var instead:\n",
    "# pk = os.environ.get('PRIVATE_KEY')\n",
    "pk = '0x7ec01898a720beda9304921aec62735846aa1a545a8332bc030577c21f72cd46'\n",
    "\n",
    "acct2 = w3.eth.account.from_key(pk)\n",
    "# fund the new account, so it has something to send in a transaction:\n",
    "w3.eth.send_transaction({\"from\": acct1, \"value\": 9999999999999999, \"to\": acct2.address})\n",
    "print(f\"acct2 balance: {w3.eth.get_balance(acct2.address)}\")\n",
    "\n",
    "# add acct2 as auto signer\n",
    "w3.middleware_onion.add(construct_sign_and_send_raw_middleware(acct2))\n",
    "\n",
    "# optionally can make it the default signer as well\n",
    "w3.eth.default_account = acct2.address\n",
    "\n",
    "tx_hash = w3.eth.send_transaction({\"value\": 3333333333, \"to\": some_address})\n",
    "tx = w3.eth.get_transaction(tx_hash)\n",
    "assert tx[\"from\"] == acct2.address"
   ]
  },
  {
   "cell_type": "markdown",
   "id": "47802508",
   "metadata": {},
   "source": [
    "if you don't opt for the middleware, you'll need to: \n",
    "- build each transaction, \n",
    "- sign it, and \n",
    "- then use send_raw_transaction."
   ]
  },
  {
   "cell_type": "code",
   "execution_count": 6,
   "id": "56387025",
   "metadata": {},
   "outputs": [
    {
     "name": "stdout",
     "output_type": "stream",
     "text": [
      "Raw tx: b'\\x02\\xf8o\\x80\\x01\\x84;\\x9a\\xca\\x00\\x84w5\\x94\\x00\\x83\\x03\\r@\\x94\\x00\\x00\\x00\\x00\\x00\\x00\\x00\\x00\\x00\\x00\\x00\\x00\\x00\\x00\\x00\\x00\\x00\\x00\\x00\\x00\\x84;\\x9a\\xca\\x00\\x80\\xc0\\x80\\xa0\\x07\\xe2\\xf4\\xddd\\xa5jl~\\xfc\\x1b\\\\\\x8cG\\xbf~,\\xf3W%H\\xdb\\xe5\\xc1>\\x13\\xe6\\xf4L\\x05\\x90\\xcf\\xa0Xt\\x0b\\x15\\x994\\xdb\"\\xfd\\x84\\xa6\\x83\\xed\\xfdLZi\\x02%g\\xd4<\\x9a\\x184z\\xd4\\xab\\xcdWmP'\n"
     ]
    }
   ],
   "source": [
    "# 1. build a new tx\n",
    "transaction = {\n",
    "    'from': acct2.address,\n",
    "    'to': some_address,\n",
    "    'value': 1000000000,\n",
    "    'nonce': w3.eth.get_transaction_count(acct2.address),\n",
    "    'gas': 200000,\n",
    "    'type': '0x2',\n",
    "    'maxFeePerGas': 2000000000,\n",
    "    'maxPriorityFeePerGas': 1000000000,\n",
    "}\n",
    "\n",
    "# 2. sign tx with a private key\n",
    "signed = w3.eth.account.sign_transaction(transaction, pk)\n",
    "\n",
    "# 2.a. the raw transaction is what will be broadcast to the network:\n",
    "print(f\"Raw tx: {signed.rawTransaction}\")\n",
    "\n",
    "# 3. send the signed transaction\n",
    "tx_hash = w3.eth.send_raw_transaction(signed.rawTransaction)\n",
    "tx = w3.eth.get_transaction(tx_hash)\n",
    "assert tx[\"from\"] == acct2.address"
   ]
  },
  {
   "cell_type": "code",
   "execution_count": 7,
   "id": "7ee4a494",
   "metadata": {},
   "outputs": [
    {
     "ename": "NameError",
     "evalue": "name 'EIP20_ABI' is not defined",
     "output_type": "error",
     "traceback": [
      "\u001b[0;31m---------------------------------------------------------------------------\u001b[0m",
      "\u001b[0;31mNameError\u001b[0m                                 Traceback (most recent call last)",
      "Cell \u001b[0;32mIn [7], line 2\u001b[0m\n\u001b[1;32m      1\u001b[0m \u001b[38;5;66;03m# last up, build, sign, send contract txs:\u001b[39;00m\n\u001b[0;32m----> 2\u001b[0m unicorns \u001b[38;5;241m=\u001b[39m w3\u001b[38;5;241m.\u001b[39meth\u001b[38;5;241m.\u001b[39mcontract(address\u001b[38;5;241m=\u001b[39m\u001b[38;5;124m\"\u001b[39m\u001b[38;5;124m0xfB6916095ca1df60bB79Ce92cE3Ea74c37c5d359\u001b[39m\u001b[38;5;124m\"\u001b[39m, abi\u001b[38;5;241m=\u001b[39m\u001b[43mEIP20_ABI\u001b[49m)\n\u001b[1;32m      4\u001b[0m nonce \u001b[38;5;241m=\u001b[39m w3\u001b[38;5;241m.\u001b[39meth\u001b[38;5;241m.\u001b[39mget_transaction_count(\u001b[38;5;124m'\u001b[39m\u001b[38;5;124m0x5ce9454909639D2D17A3F753ce7d93fa0b9aB12E\u001b[39m\u001b[38;5;124m'\u001b[39m)  \n\u001b[1;32m      6\u001b[0m \u001b[38;5;66;03m# Build a transaction that invokes this contract's function, called transfer\u001b[39;00m\n",
      "\u001b[0;31mNameError\u001b[0m: name 'EIP20_ABI' is not defined"
     ]
    }
   ],
   "source": [
    "# last up, build, sign, send contract txs:\n",
    "\n",
    "# TODO: get bytecode for a smol dummy contract to deploy right quick\n",
    "unicorns = w3.eth.contract(address=\"0xfB6916095ca1df60bB79Ce92cE3Ea74c37c5d359\", abi=EIP20_ABI)\n",
    "\n",
    "# Build a transaction that invokes this contract's function, called transfer\n",
    "unicorn_txn = unicorns.functions.transfer(\n",
    "    '0xfB6916095ca1df60bB79Ce92cE3Ea74c37c5d359',\n",
    "    1,\n",
    ").build_transaction({\n",
    "    'chainId': 1,\n",
    "    'gas': 70000,\n",
    "    'maxFeePerGas': w3.to_wei('2', 'gwei'),\n",
    "    'maxPriorityFeePerGas': w3.to_wei('1', 'gwei'),\n",
    "    'nonce': w3.eth.get_transaction_count(acct2.address),\n",
    "})\n",
    "\n",
    "print(f\"tx params: {unicorn_txn}\")\n",
    "\n",
    "private_key = b\"\\xb2\\\\}\\xb3\\x1f\\xee\\xd9\\x12''\\xbf\\t9\\xdcv\\x9a\\x96VK-\\xe4\\xc4rm\\x03[6\\xec\\xf1\\xe5\\xb3d\"\n",
    "signed_txn = w3.eth.account.sign_transaction(unicorn_txn, private_key=private_key)\n",
    "\n",
    "signed_txn.hash\n",
    "HexBytes('0x748db062639a45e519dba934fce09c367c92043867409160c9989673439dc817')\n",
    "\n",
    "print(f\"Raw tx: {signed_txn.rawTransaction}\")\n",
    "\n",
    "tx_hash = w3.eth.send_raw_transaction(signed_txn.rawTransaction)  \n",
    "tx = w3.eth.get_transaction(tx_hash)\n",
    "assert tx[\"from\"] == acct2.address\n",
    "\n",
    "# When you run send_raw_transaction, you get the same result as the hash of the transaction:\n",
    "w3.to_hex(w3.keccak(signed_txn.rawTransaction))\n",
    "'0x748db062639a45e519dba934fce09c367c92043867409160c9989673439dc817'"
   ]
  },
  {
   "cell_type": "code",
   "execution_count": null,
   "id": "5a5396fc",
   "metadata": {},
   "outputs": [],
   "source": []
  }
 ],
 "metadata": {
  "kernelspec": {
   "display_name": "Python 3 (ipykernel)",
   "language": "python",
   "name": "python3"
  },
  "language_info": {
   "codemirror_mode": {
    "name": "ipython",
    "version": 3
   },
   "file_extension": ".py",
   "mimetype": "text/x-python",
   "name": "python",
   "nbconvert_exporter": "python",
   "pygments_lexer": "ipython3",
   "version": "3.9.7"
  }
 },
 "nbformat": 4,
 "nbformat_minor": 5
}
